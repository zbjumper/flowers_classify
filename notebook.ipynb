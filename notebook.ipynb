{
 "cells": [
  {
   "cell_type": "code",
   "execution_count": 1,
   "metadata": {},
   "outputs": [
    {
     "name": "stdout",
     "output_type": "stream",
     "text": [
      "tensor([[[[-1.,  0.,  1.],\n",
      "          [-2.,  0.,  2.],\n",
      "          [-1.,  0.,  1.]],\n",
      "\n",
      "         [[-1.,  0.,  1.],\n",
      "          [-2.,  0.,  2.],\n",
      "          [-1.,  0.,  1.]],\n",
      "\n",
      "         [[-1.,  0.,  1.],\n",
      "          [-2.,  0.,  2.],\n",
      "          [-1.,  0.,  1.]]]])\n"
     ]
    }
   ],
   "source": [
    "import torch\n",
    "\n",
    "ter = torch.tensor([\n",
    "    [-1., 0., 1.],\n",
    "    [-2., 0., 2.],\n",
    "    [-1., 0., 1.]\n",
    "]* 3)\n",
    "\n",
    "print(ter.reshape([1,3,3,3]))"
   ]
  }
 ],
 "metadata": {
  "kernelspec": {
   "display_name": "flower-classify",
   "language": "python",
   "name": "python3"
  },
  "language_info": {
   "codemirror_mode": {
    "name": "ipython",
    "version": 3
   },
   "file_extension": ".py",
   "mimetype": "text/x-python",
   "name": "python",
   "nbconvert_exporter": "python",
   "pygments_lexer": "ipython3",
   "version": "3.11.4"
  },
  "orig_nbformat": 4
 },
 "nbformat": 4,
 "nbformat_minor": 2
}
